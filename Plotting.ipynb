{
 "cells": [
  {
   "cell_type": "code",
   "execution_count": 1,
   "metadata": {},
   "outputs": [],
   "source": [
    "import numpy as np\n",
    "import pandas as pd\n",
    "import random\n",
    "%matplotlib inline\n",
    "from matplotlib import pyplot as plt\n",
    "from matplotlib import style\n",
    "from matplotlib.pyplot import figure"
   ]
  },
  {
   "cell_type": "code",
   "execution_count": 2,
   "metadata": {},
   "outputs": [],
   "source": [
    "m=[1,2,3,4,5,6,7,8]\n",
    "months=['Jan', 'Feb', 'Mar', 'Apr', 'May', 'Jun', 'Jul', 'Aug']"
   ]
  },
  {
   "cell_type": "markdown",
   "metadata": {},
   "source": [
    "There can be any number of files but, atmost 3 are recommended. \n",
    "\n",
    "Unless type of graph is changed"
   ]
  },
  {
   "cell_type": "code",
   "execution_count": null,
   "metadata": {},
   "outputs": [],
   "source": [
    "df1=pd.read_csv(first_file_path)      # reading the datafile\n",
    "df2=pd.read_csv(first_file_path)      # reading the datafile"
   ]
  },
  {
   "cell_type": "markdown",
   "metadata": {},
   "source": [
    "while copying the dataframe to csv file, a new column is created which has to be get rid off."
   ]
  },
  {
   "cell_type": "code",
   "execution_count": null,
   "metadata": {},
   "outputs": [],
   "source": [
    "df1=df1.drop('Unnamed: 0', axis=1)\n",
    "df2=df2.drop('Unnamed: 0', axis=1)"
   ]
  },
  {
   "cell_type": "code",
   "execution_count": null,
   "metadata": {},
   "outputs": [],
   "source": [
    "#filtering unnecessary columns\n",
    "col1=[ele for ele in df1.columns if ele not in ['from date', 'station']]\n",
    "col2=[ele for ele in df2.columns if ele not in ['from date', 'station']]\n",
    "\n",
    "AQI=[ele for ele in (set(col1) & set(col2))]"
   ]
  },
  {
   "cell_type": "markdown",
   "metadata": {},
   "source": [
    "To plot monthly data, a dictionary is created.\n",
    "\n",
    "Whatever the time period we choose for the graph, dictionary will change accordingly."
   ]
  },
  {
   "cell_type": "code",
   "execution_count": null,
   "metadata": {},
   "outputs": [],
   "source": [
    "df1_dict={1:df1[:31].mean(),      #JANUARY\n",
    "        2:df1[31:60].mean(),      #FEBRUARY\n",
    "        3:df1[60:91].mean(),      #MARCH\n",
    "        4:df1[91:121].mean(),     #APRIL\n",
    "        5:df1[121:152].mean(),    #MAY\n",
    "        6:df1[152:182].mean(),    #JUNE\n",
    "        7:df1[182:213].mean(),    #JULY\n",
    "        8:df1[213:].mean()}       #AUGUST\n",
    "\n",
    "df2_dict={1:df2[:31].mean(),      #JANUARY\n",
    "        2:df2[31:60].mean(),      #FEBRUARY\n",
    "        3:df2[60:91].mean(),      #MARCH\n",
    "        4:df2[91:121].mean(),     #APRIL\n",
    "        5:df2[121:152].mean(),    #MAY\n",
    "        6:df2[152:182].mean(),    #JUNE\n",
    "        7:df2[182:213].mean(),    #JULY\n",
    "        8:df2[213:].mean()}       #AUGUST"
   ]
  },
  {
   "cell_type": "code",
   "execution_count": null,
   "metadata": {},
   "outputs": [],
   "source": [
    "y1=[]\n",
    "y2=[]\n",
    "for i in m:\n",
    "    t1=[]\n",
    "    t2=[]\n",
    "    for q in AQI:\n",
    "        t1.append(df1_dict[i][q])\n",
    "        t2.append(df2_dict[i][q])\n",
    "    y2.append(t2)\n",
    "    y1.append(t1)"
   ]
  },
  {
   "cell_type": "markdown",
   "metadata": {},
   "source": [
    "code in the cell below creates 6 plots i.e. monthly graph"
   ]
  },
  {
   "cell_type": "code",
   "execution_count": null,
   "metadata": {},
   "outputs": [],
   "source": [
    "for i in m:\n",
    "    figure(num=None, figsize=(10, 6), dpi=80, facecolor='w', edgecolor='k')\n",
    "    br1 = [x for x in range(len(AQI))]           #bars for city_1\n",
    "    br2 = [x + 0.3 for x in br1]                 #bars for city_2\n",
    "    plt.bar(br1, y1[i-1], color='r', label='city_1', width=0.3)\n",
    "    plt.bar(br2, y2[i-1], color='b', label='city_2', width=0.3)\n",
    "    plt.legend()\n",
    "    plt.xlabel('Pollutants')\n",
    "    plt.ylabel('Values')\n",
    "    plt.xticks([r + 0.3 for r in range(len(AQI))], AQI)\n",
    "    plt.title('Title')\n",
    "    plt.show()"
   ]
  },
  {
   "cell_type": "markdown",
   "metadata": {},
   "source": [
    "To plot the graph for a particular pollutant."
   ]
  },
  {
   "cell_type": "code",
   "execution_count": null,
   "metadata": {},
   "outputs": [],
   "source": [
    "p1=[]\n",
    "p2=[]\n",
    "for i in m:\n",
    "    p1.append(df1_dict[i][pollutant])\n",
    "    p2.append(df2_dict[i][pollutant])"
   ]
  },
  {
   "cell_type": "code",
   "execution_count": null,
   "metadata": {},
   "outputs": [],
   "source": [
    "figure(num=None, figsize=(10, 6), dpi=80, facecolor='w', edgecolor='k')\n",
    "br1 = [x for x in range(len(m))]             #bars for city_1\n",
    "br2 = [x + 0.3 for x in br1]                 #bars for city_2\n",
    "plt.bar(br1, p1, color='r', label='city_1', width=0.3)\n",
    "plt.bar(br2, p2, color='b', label='city_2', width=0.3)\n",
    "plt.legend()\n",
    "plt.xlabel('months')\n",
    "plt.ylabel('Values')\n",
    "plt.xticks([r + 0.3 for r in range(len(months))], months)\n",
    "plt.title(\"\")\n",
    "plt.show()"
   ]
  },
  {
   "cell_type": "code",
   "execution_count": null,
   "metadata": {},
   "outputs": [],
   "source": []
  },
  {
   "cell_type": "markdown",
   "metadata": {},
   "source": [
    "# AN EXAMPLE IS SHOWN HERE"
   ]
  },
  {
   "cell_type": "code",
   "execution_count": 17,
   "metadata": {},
   "outputs": [],
   "source": [
    "# reading datafiles\n",
    "ben=pd.read_csv('F:/air quality index project data/cpcb-datasets/bengaluru/Bengaluru - KSPCB.csv')\n",
    "hyd=pd.read_csv('F:/air quality index project data/cpcb-datasets/hyderabad/Hyderabad - TSPCB.csv')"
   ]
  },
  {
   "cell_type": "markdown",
   "metadata": {},
   "source": [
    "while copying the dataframe to csv file, a new column is created which has to be get rid off."
   ]
  },
  {
   "cell_type": "code",
   "execution_count": 18,
   "metadata": {},
   "outputs": [],
   "source": [
    "while copying the dataframe to csv file, a new column is created which has to be get rid off.\n",
    "ben=ben.drop('Unnamed: 0', axis=1)\n",
    "hyd=hyd.drop('Unnamed: 0', axis=1)"
   ]
  },
  {
   "cell_type": "code",
   "execution_count": 19,
   "metadata": {},
   "outputs": [],
   "source": [
    "#filtering unnecessary columns\n",
    "col1=[ele for ele in ben.columns if ele not in ['from date', 'station']]\n",
    "col2=[ele for ele in hyd.columns if ele not in ['from date', 'station']]\n",
    "\n",
    "AQI=[ele for ele in (set(col1) & set(col2))]"
   ]
  },
  {
   "cell_type": "markdown",
   "metadata": {},
   "source": [
    "To plot monthly data, a dictionary is created.\n",
    "\n",
    "Whatever the time period we choose for the graph, dictionary will change accordingly."
   ]
  },
  {
   "cell_type": "code",
   "execution_count": 20,
   "metadata": {},
   "outputs": [],
   "source": [
    "ben_dict={1:ben[:31].mean(),      #JANUARY\n",
    "        2:ben[31:60].mean(),      #FEBRUARY\n",
    "        3:ben[60:91].mean(),      #MARCH\n",
    "        4:ben[91:121].mean(),     #APRIL\n",
    "        5:ben[121:152].mean(),    #MAY\n",
    "        6:ben[152:182].mean(),    #JUNE\n",
    "        7:ben[182:213].mean(),    #JULY\n",
    "        8:ben[213:].mean()}       #AUGUST\n",
    "\n",
    "hyd_dict={1:hyd[:31].mean(),      #JANUARY\n",
    "        2:hyd[31:60].mean(),      #FEBRUARY\n",
    "        3:hyd[60:91].mean(),      #MARCH\n",
    "        4:hyd[91:121].mean(),     #APRIL\n",
    "        5:hyd[121:152].mean(),    #MAY\n",
    "        6:hyd[152:182].mean(),    #JUNE\n",
    "        7:hyd[182:213].mean(),    #JULY\n",
    "        8:hyd[213:].mean()}       #AUGUST"
   ]
  },
  {
   "cell_type": "code",
   "execution_count": 22,
   "metadata": {},
   "outputs": [],
   "source": [
    "y1=[]\n",
    "y2=[]\n",
    "for i in m:\n",
    "    t1=[]\n",
    "    t2=[]\n",
    "    for q in AQI:\n",
    "        t1.append(ben_dict[i][q])\n",
    "        t2.append(hyd_dict[i][q])\n",
    "    y2.append(t2)\n",
    "    y1.append(t1)"
   ]
  },
  {
   "cell_type": "markdown",
   "metadata": {},
   "source": [
    "code in the cell below creates 6 plots i.e. monthly graph"
   ]
  },
  {
   "cell_type": "code",
   "execution_count": null,
   "metadata": {},
   "outputs": [],
   "source": [
    "for i in m:\n",
    "    figure(num=None, figsize=(10, 6), dpi=80, facecolor='w', edgecolor='k')\n",
    "    br1 = [x for x in range(len(AQI))]           #bars for city_1\n",
    "    br2 = [x + 0.3 for x in br1]                 #bars for city_2\n",
    "    plt.bar(br1, y1[i-1], color='r', label='Bengaluru', width=0.3)\n",
    "    plt.bar(br2, y2[i-1], color='b', label='Hyderabad', width=0.3)\n",
    "    plt.legend()\n",
    "    plt.xlabel('Pollutants')\n",
    "    plt.ylabel('Values')\n",
    "    plt.xticks([r + 0.3 for r in range(len(AQI))], AQI)\n",
    "    plt.title('Title')\n",
    "    plt.show()"
   ]
  },
  {
   "cell_type": "markdown",
   "metadata": {},
   "source": [
    "To plot the graph for a particular pollutant.\n",
    "\n",
    "In the graphs above, values of CO won't be clear because it is not on similar scale."
   ]
  },
  {
   "cell_type": "code",
   "execution_count": 26,
   "metadata": {},
   "outputs": [],
   "source": [
    "# carbon monoxide(CO) is chosen as pollutant as an example\n",
    "p1=[]\n",
    "p2=[]\n",
    "for i in m:\n",
    "    p1.append(ben_dict[i]['CO'])\n",
    "    p2.append(hyd_dict[i]['CO'])"
   ]
  },
  {
   "cell_type": "code",
   "execution_count": 28,
   "metadata": {},
   "outputs": [
    {
     "data": {
      "image/png": "[encoded data removed]",
      "text/plain": [
       "<Figure size 800x480 with 1 Axes>"
      ]
     },
     "metadata": {},
     "output_type": "display_data"
    }
   ],
   "source": [
    "figure(num=None, figsize=(10, 6), dpi=80, facecolor='w', edgecolor='k')\n",
    "br1 = [x for x in range(len(m))]             #bars for city_1\n",
    "br2 = [x + 0.3 for x in br1]                 #bars for city_2\n",
    "plt.bar(br1, p1, color='r', label='Bengaluru', width=0.3)\n",
    "plt.bar(br2, p2, color='b', label='Hyderabad', width=0.3)\n",
    "plt.legend()\n",
    "plt.xlabel('months')\n",
    "plt.ylabel('Values')\n",
    "plt.xticks([r + 0.3 for r in range(len(months))], months)\n",
    "plt.title(\"\")\n",
    "plt.show()"
   ]
  },
  {
   "cell_type": "code",
   "execution_count": null,
   "metadata": {},
   "outputs": [],
   "source": []
  }
 ],
 "metadata": {
  "kernelspec": {
   "display_name": "Python 3",
   "language": "python",
   "name": "python3"
  },
  "language_info": {
   "codemirror_mode": {
    "name": "ipython",
    "version": 3
   },
   "file_extension": ".py",
   "mimetype": "text/x-python",
   "name": "python",
   "nbconvert_exporter": "python",
   "pygments_lexer": "ipython3",
   "version": "3.7.3"
  }
 },
 "nbformat": 4,
 "nbformat_minor": 2
}
