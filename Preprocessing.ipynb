{
 "cells": [
  {
   "cell_type": "code",
   "execution_count": 1,
   "metadata": {},
   "outputs": [],
   "source": [
    "# Basic Preprocessing tools\n",
    "import numpy as np\n",
    "import pandas as pd"
   ]
  },
  {
   "cell_type": "code",
   "execution_count": 2,
   "metadata": {},
   "outputs": [],
   "source": [
    "to_keep=np.array(['PM10', 'PM2.5', 'SO2', 'NO2', 'NH3', 'CO', 'Ozone', 'from date', 'station'])"
   ]
  },
  {
   "cell_type": "code",
   "execution_count": null,
   "metadata": {},
   "outputs": [],
   "source": [
    "df=pd.read_csv(file_path)   # reading the datafile"
   ]
  },
  {
   "cell_type": "code",
   "execution_count": null,
   "metadata": {},
   "outputs": [],
   "source": [
    "#filtering unnecessary columns\n",
    "\n",
    "rem=[ele for ele in df.columns if ele not in to_keep]\n",
    "df=df.drop(rem, axis=1)"
   ]
  },
  {
   "cell_type": "code",
   "execution_count": null,
   "metadata": {},
   "outputs": [],
   "source": [
    "for c in AQI:\n",
    "    print(df[c].isna().sum())"
   ]
  },
  {
   "cell_type": "code",
   "execution_count": null,
   "metadata": {},
   "outputs": [],
   "source": [
    "df[:31].info()        # to see values of january"
   ]
  },
  {
   "cell_type": "code",
   "execution_count": null,
   "metadata": {},
   "outputs": [],
   "source": [
    "df[31:60].info()      # to see values of february"
   ]
  },
  {
   "cell_type": "code",
   "execution_count": null,
   "metadata": {},
   "outputs": [],
   "source": [
    "df[60:91].info()      # to see values of March"
   ]
  },
  {
   "cell_type": "code",
   "execution_count": null,
   "metadata": {},
   "outputs": [],
   "source": [
    "df[91:121].info()     # to see values of April"
   ]
  },
  {
   "cell_type": "code",
   "execution_count": null,
   "metadata": {},
   "outputs": [],
   "source": [
    "df[121:152].info()    # to see values of May"
   ]
  },
  {
   "cell_type": "code",
   "execution_count": 20,
   "metadata": {},
   "outputs": [],
   "source": [
    "df[31:60].info()      # to see values of June"
   ]
  },
  {
   "cell_type": "code",
   "execution_count": 39,
   "metadata": {},
   "outputs": [
    {
     "data": {
      "text/plain": [
       "array(['PM10', 'PM2.5', 'SO2', 'NO2', 'NH3', 'CO', 'Ozone'], dtype='<U9')"
      ]
     },
     "execution_count": 39,
     "metadata": {},
     "output_type": "execute_result"
    }
   ],
   "source": [
    "AQI=np.delete(to_keep, [7, 8])\n",
    "AQI"
   ]
  },
  {
   "cell_type": "markdown",
   "metadata": {},
   "source": [
    "when single column is to be cured"
   ]
  },
  {
   "cell_type": "code",
   "execution_count": null,
   "metadata": {},
   "outputs": [],
   "source": [
    "t=df[start:end]['attribute'].mean()\n",
    "df[start:end]['attribute'].fillna(t, inplace=True)"
   ]
  },
  {
   "cell_type": "markdown",
   "metadata": {},
   "source": [
    "when values are missing across multiple columns in same rows or nearby rows"
   ]
  },
  {
   "cell_type": "code",
   "execution_count": null,
   "metadata": {},
   "outputs": [],
   "source": [
    "for c in A:\n",
    "    temp=df[start:end][c].mean()\n",
    "    df[123:153][c].fillna(temp, inplace=True)"
   ]
  },
  {
   "cell_type": "markdown",
   "metadata": {},
   "source": [
    "To check just in case if there is any NaN value left"
   ]
  },
  {
   "cell_type": "code",
   "execution_count": null,
   "metadata": {},
   "outputs": [],
   "source": [
    "for c in col:\n",
    "    print(df[c].isna().sum())"
   ]
  },
  {
   "cell_type": "markdown",
   "metadata": {},
   "source": [
    "Save the dataframe to the CSV file"
   ]
  },
  {
   "cell_type": "code",
   "execution_count": null,
   "metadata": {},
   "outputs": [],
   "source": [
    "df.to_csv(csv file path)"
   ]
  },
  {
   "cell_type": "code",
   "execution_count": null,
   "metadata": {},
   "outputs": [],
   "source": []
  },
  {
   "cell_type": "markdown",
   "metadata": {},
   "source": [
    "# AN EXAMPLE IS SHOWN HERE"
   ]
  },
  {
   "cell_type": "code",
   "execution_count": 3,
   "metadata": {},
   "outputs": [],
   "source": [
    "# reading datafiles\n",
    "ben=pd.read_csv('F:/air quality index project data/cpcb-datasets/bengaluru/Bengaluru - KSPCB.csv')\n",
    "hyd=pd.read_csv('F:/air quality index project data/cpcb-datasets/hyderabad/Hyderabad - TSPCB.csv')"
   ]
  },
  {
   "cell_type": "code",
   "execution_count": 4,
   "metadata": {},
   "outputs": [],
   "source": [
    "#filtering unnecessary columns\n",
    "\n",
    "rem=[ele for ele in ben.columns if ele not in to_keep]\n",
    "ben=ben.drop(rem, axis=1)\n",
    "\n",
    "rem=[ele for ele in hyd.columns if ele not in to_keep]\n",
    "hyd=hyd.drop(rem, axis=1)"
   ]
  },
  {
   "cell_type": "code",
   "execution_count": 27,
   "metadata": {},
   "outputs": [
    {
     "name": "stdout",
     "output_type": "stream",
     "text": [
      "<class 'pandas.core.frame.DataFrame'>\n",
      "RangeIndex: 183 entries, 0 to 182\n",
      "Data columns (total 8 columns):\n",
      "from date    183 non-null object\n",
      "NO2          183 non-null float64\n",
      "NH3          183 non-null float64\n",
      "CO           183 non-null float64\n",
      "Ozone        183 non-null float64\n",
      "PM2.5        183 non-null float64\n",
      "PM10         183 non-null float64\n",
      "station      183 non-null object\n",
      "dtypes: float64(6), object(2)\n",
      "memory usage: 11.6+ KB\n"
     ]
    }
   ],
   "source": [
    "ben.info()"
   ]
  },
  {
   "cell_type": "code",
   "execution_count": 28,
   "metadata": {},
   "outputs": [
    {
     "name": "stdout",
     "output_type": "stream",
     "text": [
      "<class 'pandas.core.frame.DataFrame'>\n",
      "RangeIndex: 183 entries, 0 to 182\n",
      "Data columns (total 9 columns):\n",
      "from date    183 non-null object\n",
      "CO           183 non-null float64\n",
      "Ozone        183 non-null float64\n",
      "NO2          183 non-null float64\n",
      "NH3          183 non-null float64\n",
      "SO2          183 non-null float64\n",
      "PM2.5        183 non-null float64\n",
      "PM10         183 non-null float64\n",
      "station      183 non-null object\n",
      "dtypes: float64(7), object(2)\n",
      "memory usage: 13.0+ KB\n"
     ]
    }
   ],
   "source": [
    "hyd.info()"
   ]
  },
  {
   "cell_type": "markdown",
   "metadata": {},
   "source": [
    "If there are no NaN(null) values present, then no need to check monthly data.\n",
    "\n",
    "i.e. next 6n cells, wher n is number of dataframes"
   ]
  },
  {
   "cell_type": "code",
   "execution_count": 6,
   "metadata": {},
   "outputs": [
    {
     "name": "stdout",
     "output_type": "stream",
     "text": [
      "<class 'pandas.core.frame.DataFrame'>\n",
      "RangeIndex: 31 entries, 0 to 30\n",
      "Data columns (total 8 columns):\n",
      "from date    31 non-null object\n",
      "NO2          31 non-null float64\n",
      "NH3          31 non-null float64\n",
      "CO           31 non-null float64\n",
      "Ozone        31 non-null float64\n",
      "PM2.5        31 non-null float64\n",
      "PM10         31 non-null float64\n",
      "station      31 non-null object\n",
      "dtypes: float64(6), object(2)\n",
      "memory usage: 2.1+ KB\n"
     ]
    }
   ],
   "source": [
    "ben[:31].info()        # to see values of january"
   ]
  },
  {
   "cell_type": "code",
   "execution_count": 8,
   "metadata": {},
   "outputs": [
    {
     "name": "stdout",
     "output_type": "stream",
     "text": [
      "<class 'pandas.core.frame.DataFrame'>\n",
      "RangeIndex: 29 entries, 31 to 59\n",
      "Data columns (total 8 columns):\n",
      "from date    29 non-null object\n",
      "NO2          29 non-null float64\n",
      "NH3          29 non-null float64\n",
      "CO           29 non-null float64\n",
      "Ozone        29 non-null float64\n",
      "PM2.5        29 non-null float64\n",
      "PM10         29 non-null float64\n",
      "station      29 non-null object\n",
      "dtypes: float64(6), object(2)\n",
      "memory usage: 1.9+ KB\n"
     ]
    }
   ],
   "source": [
    "ben[31:60].info()      # to see values of february"
   ]
  },
  {
   "cell_type": "code",
   "execution_count": 9,
   "metadata": {},
   "outputs": [
    {
     "name": "stdout",
     "output_type": "stream",
     "text": [
      "<class 'pandas.core.frame.DataFrame'>\n",
      "RangeIndex: 31 entries, 60 to 90\n",
      "Data columns (total 8 columns):\n",
      "from date    31 non-null object\n",
      "NO2          31 non-null float64\n",
      "NH3          31 non-null float64\n",
      "CO           31 non-null float64\n",
      "Ozone        31 non-null float64\n",
      "PM2.5        31 non-null float64\n",
      "PM10         31 non-null float64\n",
      "station      31 non-null object\n",
      "dtypes: float64(6), object(2)\n",
      "memory usage: 2.1+ KB\n"
     ]
    }
   ],
   "source": [
    "ben[60:91].info()      # to see values of March"
   ]
  },
  {
   "cell_type": "code",
   "execution_count": 10,
   "metadata": {},
   "outputs": [
    {
     "name": "stdout",
     "output_type": "stream",
     "text": [
      "<class 'pandas.core.frame.DataFrame'>\n",
      "RangeIndex: 30 entries, 91 to 120\n",
      "Data columns (total 8 columns):\n",
      "from date    30 non-null object\n",
      "NO2          30 non-null float64\n",
      "NH3          30 non-null float64\n",
      "CO           30 non-null float64\n",
      "Ozone        30 non-null float64\n",
      "PM2.5        30 non-null float64\n",
      "PM10         30 non-null float64\n",
      "station      30 non-null object\n",
      "dtypes: float64(6), object(2)\n",
      "memory usage: 2.0+ KB\n"
     ]
    }
   ],
   "source": [
    "ben[91:121].info()     # to see values of April"
   ]
  },
  {
   "cell_type": "code",
   "execution_count": 11,
   "metadata": {},
   "outputs": [
    {
     "name": "stdout",
     "output_type": "stream",
     "text": [
      "<class 'pandas.core.frame.DataFrame'>\n",
      "RangeIndex: 31 entries, 121 to 151\n",
      "Data columns (total 8 columns):\n",
      "from date    31 non-null object\n",
      "NO2          31 non-null float64\n",
      "NH3          31 non-null float64\n",
      "CO           31 non-null float64\n",
      "Ozone        31 non-null float64\n",
      "PM2.5        31 non-null float64\n",
      "PM10         31 non-null float64\n",
      "station      31 non-null object\n",
      "dtypes: float64(6), object(2)\n",
      "memory usage: 2.1+ KB\n"
     ]
    }
   ],
   "source": [
    "ben[121:152].info()    # to see values of May"
   ]
  },
  {
   "cell_type": "code",
   "execution_count": 12,
   "metadata": {},
   "outputs": [
    {
     "name": "stdout",
     "output_type": "stream",
     "text": [
      "<class 'pandas.core.frame.DataFrame'>\n",
      "RangeIndex: 31 entries, 152 to 182\n",
      "Data columns (total 8 columns):\n",
      "from date    31 non-null object\n",
      "NO2          31 non-null float64\n",
      "NH3          31 non-null float64\n",
      "CO           31 non-null float64\n",
      "Ozone        31 non-null float64\n",
      "PM2.5        31 non-null float64\n",
      "PM10         31 non-null float64\n",
      "station      31 non-null object\n",
      "dtypes: float64(6), object(2)\n",
      "memory usage: 2.1+ KB\n"
     ]
    }
   ],
   "source": [
    "ben[152:].info()    # to see values of June"
   ]
  },
  {
   "cell_type": "code",
   "execution_count": 13,
   "metadata": {},
   "outputs": [
    {
     "name": "stdout",
     "output_type": "stream",
     "text": [
      "<class 'pandas.core.frame.DataFrame'>\n",
      "RangeIndex: 31 entries, 0 to 30\n",
      "Data columns (total 9 columns):\n",
      "from date    31 non-null object\n",
      "CO           31 non-null float64\n",
      "Ozone        31 non-null float64\n",
      "NO2          31 non-null float64\n",
      "NH3          31 non-null float64\n",
      "SO2          31 non-null float64\n",
      "PM2.5        31 non-null float64\n",
      "PM10         31 non-null float64\n",
      "station      31 non-null object\n",
      "dtypes: float64(7), object(2)\n",
      "memory usage: 2.3+ KB\n"
     ]
    }
   ],
   "source": [
    "hyd[:31].info()        # to see values of january"
   ]
  },
  {
   "cell_type": "code",
   "execution_count": 14,
   "metadata": {},
   "outputs": [
    {
     "name": "stdout",
     "output_type": "stream",
     "text": [
      "<class 'pandas.core.frame.DataFrame'>\n",
      "RangeIndex: 29 entries, 31 to 59\n",
      "Data columns (total 9 columns):\n",
      "from date    29 non-null object\n",
      "CO           29 non-null float64\n",
      "Ozone        29 non-null float64\n",
      "NO2          29 non-null float64\n",
      "NH3          29 non-null float64\n",
      "SO2          29 non-null float64\n",
      "PM2.5        29 non-null float64\n",
      "PM10         29 non-null float64\n",
      "station      29 non-null object\n",
      "dtypes: float64(7), object(2)\n",
      "memory usage: 2.2+ KB\n"
     ]
    }
   ],
   "source": [
    "hyd[31:60].info()      # to see values of february"
   ]
  },
  {
   "cell_type": "code",
   "execution_count": 15,
   "metadata": {},
   "outputs": [
    {
     "name": "stdout",
     "output_type": "stream",
     "text": [
      "<class 'pandas.core.frame.DataFrame'>\n",
      "RangeIndex: 31 entries, 60 to 90\n",
      "Data columns (total 9 columns):\n",
      "from date    31 non-null object\n",
      "CO           31 non-null float64\n",
      "Ozone        31 non-null float64\n",
      "NO2          31 non-null float64\n",
      "NH3          31 non-null float64\n",
      "SO2          31 non-null float64\n",
      "PM2.5        31 non-null float64\n",
      "PM10         31 non-null float64\n",
      "station      31 non-null object\n",
      "dtypes: float64(7), object(2)\n",
      "memory usage: 2.3+ KB\n"
     ]
    }
   ],
   "source": [
    "hyd[60:91].info()      # to see values of March"
   ]
  },
  {
   "cell_type": "code",
   "execution_count": 16,
   "metadata": {},
   "outputs": [
    {
     "name": "stdout",
     "output_type": "stream",
     "text": [
      "<class 'pandas.core.frame.DataFrame'>\n",
      "RangeIndex: 30 entries, 91 to 120\n",
      "Data columns (total 9 columns):\n",
      "from date    30 non-null object\n",
      "CO           30 non-null float64\n",
      "Ozone        30 non-null float64\n",
      "NO2          30 non-null float64\n",
      "NH3          30 non-null float64\n",
      "SO2          30 non-null float64\n",
      "PM2.5        30 non-null float64\n",
      "PM10         30 non-null float64\n",
      "station      30 non-null object\n",
      "dtypes: float64(7), object(2)\n",
      "memory usage: 2.2+ KB\n"
     ]
    }
   ],
   "source": [
    "hyd[91:121].info()     # to see values of April"
   ]
  },
  {
   "cell_type": "code",
   "execution_count": 17,
   "metadata": {},
   "outputs": [
    {
     "name": "stdout",
     "output_type": "stream",
     "text": [
      "<class 'pandas.core.frame.DataFrame'>\n",
      "RangeIndex: 31 entries, 121 to 151\n",
      "Data columns (total 9 columns):\n",
      "from date    31 non-null object\n",
      "CO           31 non-null float64\n",
      "Ozone        31 non-null float64\n",
      "NO2          31 non-null float64\n",
      "NH3          31 non-null float64\n",
      "SO2          31 non-null float64\n",
      "PM2.5        31 non-null float64\n",
      "PM10         31 non-null float64\n",
      "station      31 non-null object\n",
      "dtypes: float64(7), object(2)\n",
      "memory usage: 2.3+ KB\n"
     ]
    }
   ],
   "source": [
    "hyd[121:152].info()    # to see values of May"
   ]
  },
  {
   "cell_type": "code",
   "execution_count": 18,
   "metadata": {},
   "outputs": [
    {
     "name": "stdout",
     "output_type": "stream",
     "text": [
      "<class 'pandas.core.frame.DataFrame'>\n",
      "RangeIndex: 31 entries, 152 to 182\n",
      "Data columns (total 9 columns):\n",
      "from date    31 non-null object\n",
      "CO           31 non-null float64\n",
      "Ozone        31 non-null float64\n",
      "NO2          31 non-null float64\n",
      "NH3          31 non-null float64\n",
      "SO2          31 non-null float64\n",
      "PM2.5        31 non-null float64\n",
      "PM10         31 non-null float64\n",
      "station      31 non-null object\n",
      "dtypes: float64(7), object(2)\n",
      "memory usage: 2.3+ KB\n"
     ]
    }
   ],
   "source": [
    "hyd[152:].info()       # to see values of June"
   ]
  },
  {
   "cell_type": "code",
   "execution_count": 29,
   "metadata": {},
   "outputs": [
    {
     "data": {
      "text/plain": [
       "array(['PM10', 'PM2.5', 'SO2', 'NO2', 'NH3', 'CO', 'Ozone'], dtype='<U9')"
      ]
     },
     "execution_count": 29,
     "metadata": {},
     "output_type": "execute_result"
    }
   ],
   "source": [
    "AQI=np.delete(to_keep, [7, 8])\n",
    "AQI"
   ]
  },
  {
   "cell_type": "markdown",
   "metadata": {},
   "source": [
    "Since, there are no null values. The dataframe is directly copied to csv file."
   ]
  },
  {
   "cell_type": "code",
   "execution_count": 30,
   "metadata": {},
   "outputs": [],
   "source": [
    "ben.to_csv('F:/air quality index project data/cpcb-datasets/bengaluru/Bengaluru - KSPCB.csv')\n",
    "hyd.to_csv('F:/air quality index project data/cpcb-datasets/hyderabad/Hyderabad - TSPCB.csv')"
   ]
  },
  {
   "cell_type": "code",
   "execution_count": null,
   "metadata": {},
   "outputs": [],
   "source": []
  }
 ],
 "metadata": {
  "kernelspec": {
   "display_name": "Python 3",
   "language": "python",
   "name": "python3"
  },
  "language_info": {
   "codemirror_mode": {
    "name": "ipython",
    "version": 3
   },
   "file_extension": ".py",
   "mimetype": "text/x-python",
   "name": "python",
   "nbconvert_exporter": "python",
   "pygments_lexer": "ipython3",
   "version": "3.7.3"
  }
 },
 "nbformat": 4,
 "nbformat_minor": 2
}
